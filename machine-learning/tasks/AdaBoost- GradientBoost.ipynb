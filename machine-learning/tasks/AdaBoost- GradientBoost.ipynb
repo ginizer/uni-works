{
 "cells": [
  {
   "cell_type": "markdown",
   "id": "30f5e976",
   "metadata": {},
   "source": [
    "# Praca domowa 2"
   ]
  },
  {
   "cell_type": "code",
   "execution_count": 115,
   "id": "cee62cea",
   "metadata": {},
   "outputs": [],
   "source": [
    "import numpy as np\n",
    "from sklearn import tree\n",
    "import numpy as np\n",
    "import matplotlib.pyplot as plt\n",
    "from sklearn.tree import DecisionTreeRegressor\n",
    "from sklearn.ensemble import AdaBoostRegressor\n",
    "from sklearn.metrics import mean_squared_error, r2_score\n",
    "from sklearn.datasets import make_regression\n",
    "from sklearn.datasets import load_diabetes,fetch_california_housing\n",
    "from sklearn.model_selection import GridSearchCV, train_test_split\n",
    "import time\n",
    "import pandas as pd"
   ]
  },
  {
   "cell_type": "markdown",
   "id": "3ff8be49",
   "metadata": {},
   "source": [
    "## Implementacja algorytmu AdaBoost"
   ]
  },
  {
   "cell_type": "code",
   "execution_count": 116,
   "id": "4003a0d0",
   "metadata": {},
   "outputs": [],
   "source": [
    "def adaboost(X,y,B=10,learning_rate=1.0, max_depth=10):\n",
    "    n = X.shape[0]\n",
    "    w = np.ones(n)/n\n",
    "    eps= [0]*B\n",
    "    komitet=[]\n",
    "    beta =[0]*B\n",
    "    \n",
    "    for k in range(B):\n",
    "        f_k = tree.DecisionTreeRegressor(max_depth = max_depth)\n",
    "        f_k.fit(X,y,sample_weight = w)\n",
    "        y_pred = f_k.predict(X)\n",
    "        r=np.abs(y_pred-y)\n",
    "        r = r/max(r)\n",
    "        \n",
    "        for i in range(n):\n",
    "            eps[k]= eps[k]+w[i]*r[i]\n",
    "        if eps[k]>=0.5:\n",
    "            break\n",
    "            \n",
    "        beta[k]= eps[k]/(1-eps[k])\n",
    "        komitet.append((f_k, beta[k]))\n",
    "        w = w * (beta[k] ** (1 - r))\n",
    "        w = w / np.sum(w)\n",
    "        \n",
    "    return komitet\n",
    "\n",
    "            \n",
    "def predict_adaboost(komitet, X):\n",
    "    B = len(komitet)\n",
    "    preds = np.zeros((B, X.shape[0]))\n",
    "    betas = np.zeros(B)\n",
    "    \n",
    "    for k, (model, beta_k) in enumerate(komitet):\n",
    "        preds[k] = model.predict(X)\n",
    "        betas[k] = beta_k\n",
    "    \n",
    "    log_betas = np.log(1 / (betas)) \n",
    "    final_preds = np.average(preds, axis=0, weights=log_betas)\n",
    "    \n",
    "    return np.array(final_preds)\n",
    "\n",
    "from sklearn.base import BaseEstimator, RegressorMixin\n",
    "\n",
    "class AdaBoostCustom(BaseEstimator, RegressorMixin):\n",
    "    def __init__(self, B=10, learning_rate=1.0, max_depth=10):\n",
    "        self.B = B\n",
    "        self.learning_rate = learning_rate\n",
    "        self.max_depth = max_depth\n",
    "        self.komitet = None\n",
    "    \n",
    "    def fit(self, X, y):\n",
    "        self.komitet = adaboost(X, y, B=self.B, learning_rate=self.learning_rate, max_depth=self.max_depth)\n",
    "        return self\n",
    "    \n",
    "    def predict(self, X):\n",
    "        return predict_adaboost(self.komitet, X)"
   ]
  },
  {
   "cell_type": "markdown",
   "id": "d0c39ebf",
   "metadata": {},
   "source": [
    "## Implementacja algorytmu GradientBoost"
   ]
  },
  {
   "cell_type": "code",
   "execution_count": 120,
   "id": "e5f2b368",
   "metadata": {},
   "outputs": [],
   "source": [
    "class MyGradientBoostingRegressor:\n",
    "    def __init__(self, n_estimators=100, learning_rate=0.1, max_depth=3, min_samples_split=2):\n",
    "        self.n_estimators = n_estimators\n",
    "        self.learning_rate = learning_rate\n",
    "        self.max_depth = max_depth\n",
    "        self.min_samples_split = min_samples_split\n",
    "        self.models = []\n",
    "        self.initial_prediction = None\n",
    "\n",
    "    def fit(self, X, y):\n",
    "        self.initial_prediction = np.mean(y)\n",
    "        y_pred = np.full_like(y, self.initial_prediction, dtype=np.float64)\n",
    "\n",
    "        for _ in range(self.n_estimators):\n",
    "            residuals = y - y_pred\n",
    "\n",
    "            tree = DecisionTreeRegressor(max_depth=self.max_depth, min_samples_split=self.min_samples_split)\n",
    "            tree.fit(X, residuals)\n",
    "\n",
    "            update = tree.predict(X)\n",
    "\n",
    "            y_pred += self.learning_rate * update\n",
    "\n",
    "            self.models.append(tree)\n",
    "\n",
    "    def predict(self, X):\n",
    "        y_pred = np.full((X.shape[0],), self.initial_prediction, dtype=np.float64)\n",
    "        for tree in self.models:\n",
    "            y_pred += self.learning_rate * tree.predict(X)\n",
    "        return y_pred\n",
    "\n"
   ]
  },
  {
   "cell_type": "markdown",
   "id": "6c7e955f",
   "metadata": {},
   "source": [
    "## Wybór zbiorów danych"
   ]
  },
  {
   "cell_type": "code",
   "execution_count": 203,
   "id": "35b312fb",
   "metadata": {},
   "outputs": [],
   "source": [
    "#mały zbiór\n",
    "diabetes = load_diabetes()\n",
    "X_1, y_1 = diabetes.data, diabetes.target\n",
    "\n",
    "#średni zbiór \n",
    "california = fetch_california_housing()\n",
    "X_2, y_2 = california.data, california.target\n",
    "\n",
    "#duży zbiór\n",
    "X_3, y_3 = make_regression(n_samples=10000, n_features=100, noise=0.1, random_state=42)\n",
    "\n",
    "X_1_train, X_1_test, y_1_train, y_1_test = train_test_split(X_1, y_1, test_size=0.2, random_state=42)\n",
    "X_2_train, X_2_test, y_2_train, y_2_test = train_test_split(X_2, y_2, test_size=0.2, random_state=42)\n",
    "X_3_train, X_3_test, y_3_train, y_3_test = train_test_split(X_3, y_3, test_size=0.2, random_state=42)"
   ]
  },
  {
   "cell_type": "markdown",
   "id": "70ce7938",
   "metadata": {},
   "source": [
    "## Eksperymentalna analiza"
   ]
  },
  {
   "cell_type": "code",
   "execution_count": 118,
   "id": "1016e0e3",
   "metadata": {},
   "outputs": [],
   "source": [
    "#Przestrzeń parametrów\n",
    "B_values = [10, 50, 100]\n",
    "learning_rates = [0.1, 0.5, 1.0]\n",
    "max_depths = [3, 5, 10]"
   ]
  },
  {
   "cell_type": "code",
   "execution_count": 129,
   "id": "dd4e1093",
   "metadata": {},
   "outputs": [
    {
     "name": "stdout",
     "output_type": "stream",
     "text": [
      "Tabela wyników:\n",
      "      B  learning_rate  max_depth          mse  training_time\n",
      "0    10            0.1          3  2955.936278       0.010962\n",
      "1    10            0.1          5  2952.308042       0.080271\n",
      "2    10            0.1         10  3418.405560       0.120207\n",
      "3    10            0.5          3  2955.936278       0.048126\n",
      "4    10            0.5          5  2967.624053       0.090321\n",
      "5    10            0.5         10  3483.783725       0.110029\n",
      "6    10            1.0          3  2955.936278       0.054588\n",
      "7    10            1.0          5  2885.771102       0.074229\n",
      "8    10            1.0         10  3539.909046       0.096569\n",
      "9    50            0.1          3  2921.963895       0.101235\n",
      "10   50            0.1          5  2884.055043       0.333585\n",
      "11   50            0.1         10  3473.909649       0.547840\n",
      "12   50            0.5          3  2921.963895       0.095227\n",
      "13   50            0.5          5  2883.437390       0.340147\n",
      "14   50            0.5         10  3569.145496       0.521632\n",
      "15   50            1.0          3  2921.963895       0.095665\n",
      "16   50            1.0          5  2871.848315       0.329370\n",
      "17   50            1.0         10  3506.448759       0.543233\n",
      "18  100            0.1          3  2921.963895       0.098884\n",
      "19  100            0.1          5  2900.439846       0.668054\n",
      "20  100            0.1         10  3281.147849       1.062072\n",
      "21  100            0.5          3  2922.092336       0.100962\n",
      "22  100            0.5          5  2927.972927       0.662752\n",
      "23  100            0.5         10  3260.624722       1.093252\n",
      "24  100            1.0          3  2922.092336       0.113300\n",
      "25  100            1.0          5  2925.529340       0.844506\n",
      "26  100            1.0         10  3258.599310       1.180975\n"
     ]
    }
   ],
   "source": [
    "results_a1 = []\n",
    "\n",
    "for B in B_values:\n",
    "    for learning_rate in learning_rates:\n",
    "        for max_depth in max_depths:\n",
    "            model = AdaBoostCustom(B=B, learning_rate=learning_rate, max_depth=max_depth)\n",
    "            \n",
    "            start_time = time.time()\n",
    "            model.fit(X_1_train, y_1_train)\n",
    "            training_time = time.time() - start_time\n",
    "            \n",
    "\n",
    "            predictions = model.predict(X_1_test)\n",
    "            \n",
    "            \n",
    "            mse = mean_squared_error(y_1_test, predictions)\n",
    "            \n",
    "           \n",
    "            results_a1.append({\n",
    "                'B': B,\n",
    "                'learning_rate': learning_rate,\n",
    "                'max_depth': max_depth,\n",
    "                'mse': mse,\n",
    "                'training_time': training_time\n",
    "            })\n",
    "\n",
    "results_df_a1 = pd.DataFrame(results_a1)\n",
    "print(\"Tabela wyników:\")\n",
    "print(results_df_a1)"
   ]
  },
  {
   "cell_type": "code",
   "execution_count": 135,
   "id": "ab405fe1",
   "metadata": {},
   "outputs": [
    {
     "name": "stdout",
     "output_type": "stream",
     "text": [
      "Tabela wyników:\n",
      "      B  learning_rate  max_depth       mse  training_time\n",
      "0    10            0.1          3  0.628411       1.387963\n",
      "1    10            0.1          5  0.476236       2.311157\n",
      "2    10            0.1         10  0.283035       4.438309\n",
      "3    10            0.5          3  0.628344       1.534194\n",
      "4    10            0.5          5  0.476236       2.280428\n",
      "5    10            0.5         10  0.283363       4.211909\n",
      "6    10            1.0          3  0.628411       1.419463\n",
      "7    10            1.0          5  0.476254       2.262048\n",
      "8    10            1.0         10  0.283971       4.217754\n",
      "9    50            0.1          3  0.708131       2.698230\n",
      "10   50            0.1          5  0.660673       9.843393\n",
      "11   50            0.1         10  0.289482      20.681144\n",
      "12   50            0.5          3  0.708131       2.683399\n",
      "13   50            0.5          5  0.660564       9.509572\n",
      "14   50            0.5         10  0.289460      20.315736\n",
      "15   50            1.0          3  0.708131       2.612012\n",
      "16   50            1.0          5  0.660762       9.476840\n",
      "17   50            1.0         10  0.289755      21.307599\n",
      "18  100            0.1          3  0.708131       2.653885\n",
      "19  100            0.1          5  0.660635       9.480889\n",
      "20  100            0.1         10  0.300613      42.417635\n",
      "21  100            0.5          3  0.708116       2.437863\n",
      "22  100            0.5          5  0.660737       9.782128\n",
      "23  100            0.5         10  0.300532      42.671345\n",
      "24  100            1.0          3  0.708131       2.746761\n",
      "25  100            1.0          5  0.660783       9.508279\n",
      "26  100            1.0         10  0.300662      42.036734\n"
     ]
    }
   ],
   "source": [
    "results_a2 = []\n",
    "\n",
    "for B in B_values:\n",
    "    for learning_rate in learning_rates:\n",
    "        for max_depth in max_depths:\n",
    "        \n",
    "            model = AdaBoostCustom(B=B, learning_rate=learning_rate, max_depth=max_depth)\n",
    "            \n",
    "            start_time = time.time()\n",
    "            model.fit(X_2_train, y_2_train)\n",
    "            training_time = time.time() - start_time\n",
    "            \n",
    "            predictions = model.predict(X_2_test)\n",
    "            mse = mean_squared_error(y_2_test, predictions)\n",
    "            \n",
    "            results_a2.append({\n",
    "                'B': B,\n",
    "                'learning_rate': learning_rate,\n",
    "                'max_depth': max_depth,\n",
    "                'mse': mse,\n",
    "                'training_time': training_time\n",
    "            })\n",
    "\n",
    "results_df_a2 = pd.DataFrame(results_a2)\n",
    "print(\"Tabela wyników:\")\n",
    "print(results_df_a2)\n"
   ]
  },
  {
   "cell_type": "code",
   "execution_count": 119,
   "id": "eab19876",
   "metadata": {},
   "outputs": [
    {
     "name": "stdout",
     "output_type": "stream",
     "text": [
      "Tabela wyników:\n",
      "      B  learning_rate  max_depth           mse  training_time\n",
      "0    10            0.1          3  14461.240233      10.196915\n",
      "1    10            0.1          5  10169.553005      16.867920\n",
      "2    10            0.1         10   7049.001486      29.983458\n",
      "3    10            0.5          3  14461.240233      10.646771\n",
      "4    10            0.5          5  10169.553005      16.111800\n",
      "5    10            0.5         10   7018.655305      30.000746\n",
      "6    10            1.0          3  14461.240233      10.955581\n",
      "7    10            1.0          5  10169.553005      16.787358\n",
      "8    10            1.0         10   7054.132852      30.337870\n",
      "9    50            0.1          3   8727.692033      52.675316\n",
      "10   50            0.1          5   6502.627478      83.685546\n",
      "11   50            0.1         10   6119.886718     150.083151\n",
      "12   50            0.5          3   8727.692033      52.530725\n",
      "13   50            0.5          5   6501.971519      85.725250\n",
      "14   50            0.5         10   6103.920397     149.120779\n",
      "15   50            1.0          3   8727.692033      54.246856\n",
      "16   50            1.0          5   6505.818721      86.650622\n",
      "17   50            1.0         10   6125.113637     153.646645\n",
      "18  100            0.1          3   7900.395247     106.232345\n",
      "19  100            0.1          5   5931.256086     172.754064\n",
      "20  100            0.1         10   5941.999964     301.900421\n",
      "21  100            0.5          3   7899.641915     180.416481\n",
      "22  100            0.5          5   5929.304621     168.886366\n",
      "23  100            0.5         10   5938.213609    1281.568821\n",
      "24  100            1.0          3   7899.738735     110.407586\n",
      "25  100            1.0          5   5929.887074     175.502042\n",
      "26  100            1.0         10   5946.306799     509.963648\n"
     ]
    }
   ],
   "source": [
    "results_a3 = []\n",
    "\n",
    "for B in B_values:\n",
    "    for learning_rate in learning_rates:\n",
    "        for max_depth in max_depths:\n",
    "        \n",
    "            model = AdaBoostCustom(B=B, learning_rate=learning_rate, max_depth=max_depth)\n",
    "            \n",
    "            start_time = time.time()\n",
    "            model.fit(X_3_train, y_3_train)\n",
    "            training_time = time.time() - start_time\n",
    "            \n",
    "            predictions = model.predict(X_3_test)\n",
    "            mse = mean_squared_error(y_3_test, predictions)\n",
    "            \n",
    "            results_a3.append({\n",
    "                'B': B,\n",
    "                'learning_rate': learning_rate,\n",
    "                'max_depth': max_depth,\n",
    "                'mse': mse,\n",
    "                'training_time': training_time\n",
    "            })\n",
    "\n",
    "results_df_a3 = pd.DataFrame(results_a3)\n",
    "print(\"Tabela wyników:\")\n",
    "print(results_df_a3)\n"
   ]
  },
  {
   "cell_type": "code",
   "execution_count": 187,
   "id": "bb6e005c",
   "metadata": {},
   "outputs": [
    {
     "name": "stdout",
     "output_type": "stream",
     "text": [
      "      B  learning_rate  max_depth           mse  training_time\n",
      "0    10            0.1          3  21264.866426       9.581510\n",
      "1    10            0.1          5  16245.315358      14.949194\n",
      "2    10            0.1         10  12038.928033      26.078557\n",
      "3    10            0.5          3   6412.466964       9.057922\n",
      "4    10            0.5          5   4664.861591      15.437695\n",
      "5    10            0.5         10   7406.504967      27.615876\n",
      "6    10            1.0          3   5560.270385       9.511885\n",
      "7    10            1.0          5   6465.492832      15.407101\n",
      "8    10            1.0         10  15948.907081      29.596857\n",
      "9    50            0.1          3   5953.507144      48.771553\n",
      "10   50            0.1          5   3299.794603      77.584175\n",
      "11   50            0.1         10   4938.302094     134.773139\n",
      "12   50            0.5          3   1926.981194      50.079184\n",
      "13   50            0.5          5   3042.904490      79.135619\n",
      "14   50            0.5         10   7261.603605     154.163423\n",
      "15   50            1.0          3   2686.583402      50.145296\n",
      "16   50            1.0          5   7636.394815      81.874042\n",
      "17   50            1.0         10  16360.946454     155.039982\n",
      "18  100            0.1          3   2157.085926     103.046468\n",
      "19  100            0.1          5   1457.940759     159.099099\n",
      "20  100            0.1         10   4679.406242     292.163752\n",
      "21  100            0.5          3   1549.695174     100.016858\n",
      "22  100            0.5          5   3027.734417     158.299030\n",
      "23  100            0.5         10   7388.975922     315.669296\n",
      "24  100            1.0          3   2818.208778     100.114298\n",
      "25  100            1.0          5   8406.176189     165.748068\n",
      "26  100            1.0         10  16757.651215      97.575748\n"
     ]
    }
   ],
   "source": [
    "index_to_fix = 23 #outlier spowodowany uśpieniem komputera - zbyt duży czas wykonywania\n",
    "row_to_fix = results_df_a3.loc[index_to_fix].copy()\n",
    "df_without_outlier = results_df_a3.drop(index=index_to_fix)\n",
    "average_training_time_B100 = df_without_outlier[df_without_outlier['B'] == 100]['training_time'].mean()\n",
    "row_to_fix['training_time'] = average_training_time_B100\n",
    "results_df_a3.loc[index_to_fix] = row_to_fix"
   ]
  },
  {
   "cell_type": "code",
   "execution_count": 186,
   "id": "d834253c",
   "metadata": {},
   "outputs": [
    {
     "name": "stdout",
     "output_type": "stream",
     "text": [
      "      B  learning_rate  max_depth           mse  training_time\n",
      "0    10            0.1          3  21264.866426       9.581510\n",
      "1    10            0.1          5  16245.315358      14.949194\n",
      "2    10            0.1         10  12038.928033      26.078557\n",
      "3    10            0.5          3   6412.466964       9.057922\n",
      "4    10            0.5          5   4664.861591      15.437695\n",
      "5    10            0.5         10   7406.504967      27.615876\n",
      "6    10            1.0          3   5560.270385       9.511885\n",
      "7    10            1.0          5   6465.492832      15.407101\n",
      "8    10            1.0         10  15948.907081      29.596857\n",
      "9    50            0.1          3   5953.507144      48.771553\n",
      "10   50            0.1          5   3299.794603      77.584175\n",
      "11   50            0.1         10   4938.302094     134.773139\n",
      "12   50            0.5          3   1926.981194      50.079184\n",
      "13   50            0.5          5   3042.904490      79.135619\n",
      "14   50            0.5         10   7261.603605     154.163423\n",
      "15   50            1.0          3   2686.583402      50.145296\n",
      "16   50            1.0          5   7636.394815      81.874042\n",
      "17   50            1.0         10  16360.946454     155.039982\n",
      "18  100            0.1          3   2157.085926     103.046468\n",
      "19  100            0.1          5   1457.940759     159.099099\n",
      "20  100            0.1         10   4679.406242     292.163752\n",
      "21  100            0.5          3   1549.695174     100.016858\n",
      "22  100            0.5          5   3027.734417     158.299030\n",
      "23  100            0.5         10   7388.975922     315.669296\n",
      "24  100            1.0          3   2818.208778     100.114298\n",
      "25  100            1.0          5   8406.176189     165.748068\n",
      "26  100            1.0         10  16757.651215      97.575748\n"
     ]
    }
   ],
   "source": [
    "index_to_fix = 25\n",
    "row_to_fix = results_df_g3.loc[index_to_fix].copy()\n",
    "df_without_outlier = results_df_g3.drop(index=index_to_fix)\n",
    "average_training_time_B100 = df_without_outlier[df_without_outlier['B'] == 100]['training_time'].mean()\n",
    "row_to_fix['training_time'] = average_training_time_B100\n",
    "results_df_g3.loc[index_to_fix] = row_to_fix\n",
    "print(results_df_g3)"
   ]
  },
  {
   "cell_type": "code",
   "execution_count": 123,
   "id": "093a07f6",
   "metadata": {},
   "outputs": [
    {
     "name": "stdout",
     "output_type": "stream",
     "text": [
      "Tabela wyników (Diabetes dataset):\n",
      "      B  learning_rate  max_depth          mse  training_time\n",
      "0    10            0.1          3  3219.370146       0.033468\n",
      "1    10            0.1          5  3263.993033       0.046834\n",
      "2    10            0.1         10  3425.521485       0.108407\n",
      "3    10            0.5          3  3512.355264       0.035952\n",
      "4    10            0.5          5  3589.354030       0.047191\n",
      "5    10            0.5         10  3987.291699       0.097169\n",
      "6    10            1.0          3  4544.002776       0.037520\n",
      "7    10            1.0          5  5474.352468       0.041408\n",
      "8    10            1.0         10  5220.939694       0.094982\n",
      "9    50            0.1          3  2853.858269       0.196151\n",
      "10   50            0.1          5  3275.768151       0.262254\n",
      "11   50            0.1         10  3820.177483       0.480415\n",
      "12   50            0.5          3  4441.595357       0.199263\n",
      "13   50            0.5          5  3832.528699       0.246477\n",
      "14   50            0.5         10  3957.859845       0.457406\n",
      "15   50            1.0          3  7447.152222       0.185360\n",
      "16   50            1.0          5  5865.403551       0.259088\n",
      "17   50            1.0         10  4787.901980       0.201579\n",
      "18  100            0.1          3  2917.754555       0.358797\n",
      "19  100            0.1          5  3445.764346       0.532106\n",
      "20  100            0.1         10  3810.468798       0.916513\n",
      "21  100            0.5          3  4714.383285       0.360355\n",
      "22  100            0.5          5  3980.048483       0.513601\n",
      "23  100            0.5         10  4013.330144       0.590254\n",
      "24  100            1.0          3  7215.152574       0.373453\n",
      "25  100            1.0          5  6529.111102       0.513220\n",
      "26  100            1.0         10  5113.904278       0.323604\n"
     ]
    }
   ],
   "source": [
    "results_g1 = []\n",
    "\n",
    "for B in B_values:\n",
    "    for learning_rate in learning_rates:\n",
    "        for max_depth in max_depths:\n",
    "            model = MyGradientBoostingRegressor(\n",
    "                n_estimators=B,\n",
    "                learning_rate=learning_rate,\n",
    "                max_depth=max_depth\n",
    "            )\n",
    "\n",
    "            \n",
    "            start_time = time.time()\n",
    "            model.fit(X_1_train, y_1_train)\n",
    "            training_time = time.time() - start_time\n",
    "\n",
    "            predictions = model.predict(X_1_test)\n",
    "\n",
    "            mse = mean_squared_error(y_1_test, predictions)\n",
    "\n",
    "            results_g1.append({\n",
    "                'B': B,\n",
    "                'learning_rate': learning_rate,\n",
    "                'max_depth': max_depth,\n",
    "                'mse': mse,\n",
    "                'training_time': training_time\n",
    "            })\n",
    "\n",
    "results_df_g1 = pd.DataFrame(results_g1)\n",
    "print(\"Tabela wyników (Diabetes dataset):\")\n",
    "print(results_df_g1)"
   ]
  },
  {
   "cell_type": "code",
   "execution_count": 126,
   "id": "8452d73b",
   "metadata": {},
   "outputs": [
    {
     "name": "stdout",
     "output_type": "stream",
     "text": [
      "Tabela wyników (Diabetes dataset):\n",
      "      B  learning_rate  max_depth       mse  training_time\n",
      "0    10            0.1          3  0.653306       1.129718\n",
      "1    10            0.1          5  0.542237       1.843428\n",
      "2    10            0.1         10  0.419196       3.504819\n",
      "3    10            0.5          3  0.348502       1.123255\n",
      "4    10            0.5          5  0.297814       1.809481\n",
      "5    10            0.5         10  0.287733       3.619386\n",
      "6    10            1.0          3  0.341891       1.166726\n",
      "7    10            1.0          5  0.323036       1.916549\n",
      "8    10            1.0         10  0.473313       3.984292\n",
      "9    50            0.1          3  0.336161       6.151778\n",
      "10   50            0.1          5  0.274961       9.590100\n",
      "11   50            0.1         10  0.235600      19.007662\n",
      "12   50            0.5          3  0.267216       5.823444\n",
      "13   50            0.5          5  0.248192       9.273952\n",
      "14   50            0.5         10  0.291188      19.822245\n",
      "15   50            1.0          3  0.288632       6.057797\n",
      "16   50            1.0          5  0.318158      10.002506\n",
      "17   50            1.0         10  0.513723      19.574541\n",
      "18  100            0.1          3  0.294016      12.196081\n",
      "19  100            0.1          5  0.246873      20.232371\n",
      "20  100            0.1         10  0.225619      37.940255\n",
      "21  100            0.5          3  0.245295      11.720357\n",
      "22  100            0.5          5  0.246009      18.867097\n",
      "23  100            0.5         10  0.288726      37.442914\n",
      "24  100            1.0          3  0.269758      11.814078\n",
      "25  100            1.0          5  0.337957      19.493537\n",
      "26  100            1.0         10  0.504713      38.301341\n"
     ]
    }
   ],
   "source": [
    "results_g2 = []\n",
    "\n",
    "for B in B_values:\n",
    "    for learning_rate in learning_rates:\n",
    "        for max_depth in max_depths:\n",
    "            model = MyGradientBoostingRegressor(\n",
    "                n_estimators=B,\n",
    "                learning_rate=learning_rate,\n",
    "                max_depth=max_depth\n",
    "            )\n",
    "\n",
    "            \n",
    "            start_time = time.time()\n",
    "            model.fit(X_2_train, y_2_train)\n",
    "            training_time = time.time() - start_time\n",
    "\n",
    "            predictions = model.predict(X_2_test)\n",
    "\n",
    "            mse = mean_squared_error(y_2_test, predictions)\n",
    "\n",
    "            results_g2.append({\n",
    "                'B': B,\n",
    "                'learning_rate': learning_rate,\n",
    "                'max_depth': max_depth,\n",
    "                'mse': mse,\n",
    "                'training_time': training_time\n",
    "            })\n",
    "\n",
    "results_df_g2 = pd.DataFrame(results_g2)\n",
    "print(\"Tabela wyników (Diabetes dataset):\")\n",
    "print(results_df_g2)"
   ]
  },
  {
   "cell_type": "code",
   "execution_count": 180,
   "id": "4df17ddd",
   "metadata": {},
   "outputs": [
    {
     "name": "stdout",
     "output_type": "stream",
     "text": [
      "Tabela wyników (Diabetes dataset):\n",
      "      B  learning_rate  max_depth           mse  training_time\n",
      "0    10            0.1          3  21264.866426       9.581510\n",
      "1    10            0.1          5  16245.315358      14.949194\n",
      "2    10            0.1         10  12038.928033      26.078557\n",
      "3    10            0.5          3   6412.466964       9.057922\n",
      "4    10            0.5          5   4664.861591      15.437695\n",
      "5    10            0.5         10   7406.504967      27.615876\n",
      "6    10            1.0          3   5560.270385       9.511885\n",
      "7    10            1.0          5   6465.492832      15.407101\n",
      "8    10            1.0         10  15948.907081      29.596857\n",
      "9    50            0.1          3   5953.507144      48.771553\n",
      "10   50            0.1          5   3299.794603      77.584175\n",
      "11   50            0.1         10   4938.302094     134.773139\n",
      "12   50            0.5          3   1926.981194      50.079184\n",
      "13   50            0.5          5   3042.904490      79.135619\n",
      "14   50            0.5         10   7261.603605     154.163423\n",
      "15   50            1.0          3   2686.583402      50.145296\n",
      "16   50            1.0          5   7636.394815      81.874042\n",
      "17   50            1.0         10  16360.946454     155.039982\n",
      "18  100            0.1          3   2157.085926     103.046468\n",
      "19  100            0.1          5   1457.940759     159.099099\n",
      "20  100            0.1         10   4679.406242     292.163752\n",
      "21  100            0.5          3   1549.695174     100.016858\n",
      "22  100            0.5          5   3027.734417     158.299030\n",
      "23  100            0.5         10   7388.975922     315.669296\n",
      "24  100            1.0          3   2818.208778     100.114298\n",
      "25  100            1.0          5   8406.176189   35688.436750\n",
      "26  100            1.0         10  16757.651215      97.575748\n"
     ]
    }
   ],
   "source": [
    "results_g3 = []\n",
    "\n",
    "for B in B_values:\n",
    "    for learning_rate in learning_rates:\n",
    "        for max_depth in max_depths:\n",
    "            model = MyGradientBoostingRegressor(\n",
    "                n_estimators=B,\n",
    "                learning_rate=learning_rate,\n",
    "                max_depth=max_depth\n",
    "            )\n",
    "\n",
    "            \n",
    "            start_time = time.time()\n",
    "            model.fit(X_3_train, y_3_train)\n",
    "            training_time = time.time() - start_time\n",
    "\n",
    "            predictions = model.predict(X_3_test)\n",
    "\n",
    "            mse = mean_squared_error(y_3_test, predictions)\n",
    "\n",
    "            results_g3.append({\n",
    "                'B': B,\n",
    "                'learning_rate': learning_rate,\n",
    "                'max_depth': max_depth,\n",
    "                'mse': mse,\n",
    "                'training_time': training_time\n",
    "            })\n",
    "\n",
    "results_df_g3 = pd.DataFrame(results_g3)\n",
    "print(\"Tabela wyników (Diabetes dataset):\")\n",
    "print(results_df_g3)"
   ]
  },
  {
   "cell_type": "markdown",
   "id": "709f15df",
   "metadata": {},
   "source": [
    "### Grupowanie danych"
   ]
  },
  {
   "cell_type": "code",
   "execution_count": 188,
   "id": "c6f9a971",
   "metadata": {},
   "outputs": [],
   "source": [
    "average_mse_a1 = results_df_a1.groupby('learning_rate')['mse'].mean().reset_index()\n",
    "average_mse_a2= results_df_a2.groupby('learning_rate')['mse'].mean().reset_index()\n",
    "average_mse_a3 = results_df_a3.groupby('learning_rate')['mse'].mean().reset_index()\n",
    "average_mse_g1= results_df_g1.groupby('learning_rate')['mse'].mean().reset_index()\n",
    "average_mse_g2 = results_df_g2.groupby('learning_rate')['mse'].mean().reset_index()\n",
    "average_mse_g3 = results_df_g3.groupby('learning_rate')['mse'].mean().reset_index()\n",
    "\n",
    "average_times_a1 = results_df_a1.groupby('B')['training_time'].mean()\n",
    "average_times_g1 = results_df_g1.groupby('B')['training_time'].mean()\n",
    "average_times_a2 = results_df_a2.groupby('B')['training_time'].mean()\n",
    "average_times_g2 = results_df_g2.groupby('B')['training_time'].mean()\n",
    "average_times_a3 = results_df_a3.groupby('B')['training_time'].mean()\n",
    "average_times_g3 = results_df_g3.groupby('B')['training_time'].mean()\n",
    "\n",
    "markdown_table_a1 = average_mse_a1.to_markdown(index=False)\n",
    "markdown_table_a2 = average_mse_a2.to_markdown(index=False)\n",
    "markdown_table_a3 = average_mse_a3.to_markdown(index=False)\n",
    "\n",
    "markdown_table_g1 = average_mse_g1.to_markdown(index=False)\n",
    "markdown_table_g2 = average_mse_g2.to_markdown(index=False)\n",
    "markdown_table_g3 = average_mse_g3.to_markdown(index=False)"
   ]
  },
  {
   "cell_type": "code",
   "execution_count": 197,
   "id": "139587dc",
   "metadata": {},
   "outputs": [
    {
     "name": "stdout",
     "output_type": "stream",
     "text": [
      "Najlepsze modele (bez MSE, czasu i rozmiaru danych):\n",
      "                    source      B  learning_rate  max_depth\n",
      "0       AdaBoost - Zbiór 1   50.0            1.0        5.0\n",
      "1       AdaBoost - Zbiór 2   10.0            0.1       10.0\n",
      "2       AdaBoost - Zbiór 3  100.0            0.5        5.0\n",
      "3  GradientBoost - Zbiór 1   50.0            0.1        3.0\n",
      "4  GradientBoost - Zbiór 2  100.0            0.1       10.0\n",
      "5  GradientBoost - Zbiór 3  100.0            0.1        5.0\n"
     ]
    }
   ],
   "source": [
    "a1 = results_df_a1.loc[results_df_a1['mse'].idxmin()]\n",
    "a2 = results_df_a2.loc[results_df_a2['mse'].idxmin()]\n",
    "a3 = results_df_a3.loc[results_df_a3['mse'].idxmin()]\n",
    "\n",
    "g1 = results_df_g1.loc[results_df_g1['mse'].idxmin()]\n",
    "g2 = results_df_g2.loc[results_df_g2['mse'].idxmin()]\n",
    "g3 = results_df_g3.loc[results_df_g3['mse'].idxmin()]\n",
    "\n",
    "best_results = [\n",
    "    {'source': 'AdaBoost - Zbiór 1', **a1.to_dict()},\n",
    "    {'source': 'AdaBoost - Zbiór 2', **a2.to_dict()},\n",
    "    {'source': 'AdaBoost - Zbiór 3', **a3.to_dict()},\n",
    "    {'source': 'GradientBoost - Zbiór 1', **g1.to_dict()},\n",
    "    {'source': 'GradientBoost - Zbiór 2', **g2.to_dict()},\n",
    "    {'source': 'GradientBoost - Zbiór 3', **g3.to_dict()},\n",
    "]\n",
    "\n",
    "best_results_df = pd.DataFrame(best_results)\n",
    "columns_to_show = ['source', 'B', 'learning_rate', 'max_depth']\n",
    "best_results_selected = best_results_df[columns_to_show]\n"
   ]
  },
  {
   "cell_type": "markdown",
   "id": "b10bad16",
   "metadata": {},
   "source": [
    "## Porównanie dwóch modeli "
   ]
  },
  {
   "cell_type": "markdown",
   "id": "606c7d7e",
   "metadata": {},
   "source": [
    "###  MSE dla różnych learning rate - Adaboost\n",
    "\n",
    "<div style=\"display: flex; justify-content: space-around;\">\n",
    "\n",
    "<div style=\"width: 30%; padding: 10px; text-align: center;\">\n",
    "    <strong>Najmniejszy zbiór danych</strong>\n",
    "    <table>\n",
    "        <tr>\n",
    "            <th>learning_rate</th>\n",
    "            <th>mse</th>\n",
    "        </tr>\n",
    "        <tr>\n",
    "            <td>0.1</td>\n",
    "            <td>3078.9</td>\n",
    "        </tr>\n",
    "        <tr>\n",
    "            <td>0.5</td>\n",
    "            <td>3099.18</td>\n",
    "        </tr>\n",
    "        <tr>\n",
    "            <td>1</td>\n",
    "            <td>3087.57</td>\n",
    "        </tr>\n",
    "    </table>\n",
    "</div>\n",
    "\n",
    "<div style=\"width: 30%; padding: 10px; text-align: center;\">\n",
    "    <strong>Średni zbiór danych</strong>\n",
    "    <table>\n",
    "        <tr>\n",
    "            <th>learning_rate</th>\n",
    "            <th>mse</th>\n",
    "        </tr>\n",
    "        <tr>\n",
    "            <td>0.1</td>\n",
    "            <td>0.523927</td>\n",
    "        </tr>\n",
    "        <tr>\n",
    "            <td>0.5</td>\n",
    "            <td>0.523943</td>\n",
    "        </tr>\n",
    "        <tr>\n",
    "            <td>1</td>\n",
    "            <td>0.524096</td>\n",
    "        </tr>\n",
    "    </table>\n",
    "</div>\n",
    "\n",
    "<div style=\"width: 30%; padding: 10px; text-align: center;\">\n",
    "    <strong>Największy zbiór danych</strong>\n",
    "    <table>\n",
    "        <tr>\n",
    "            <th>learning_rate</th>\n",
    "            <th>mse</th>\n",
    "        </tr>\n",
    "        <tr>\n",
    "            <td>0.1</td>\n",
    "            <td>8973.28</td>\n",
    "        </tr>\n",
    "            <tr>\n",
    "            <td>0.5</td>\n",
    "            <td>6369.28</td>\n",
    "        </tr>\n",
    "        <tr>\n",
    "            <td>1</td>\n",
    "            <td>5933.78</td>\n",
    "        </tr>\n",
    "    </table>\n",
    "</div>\n",
    "\n",
    "</div>\n"
   ]
  },
  {
   "cell_type": "markdown",
   "id": "164b39d6",
   "metadata": {},
   "source": [
    "### MSE dla różnych learning rate - GradientBoost\n",
    "\n",
    "<div style=\"display: flex; justify-content: space-around;\">\n",
    "\n",
    "<div style=\"width: 45%; padding: 10px; text-align: center;\">\n",
    "    <strong>Najmniejszy zbiór danych</strong>\n",
    "    <table>\n",
    "        <tr>\n",
    "            <th>learning_rate</th>\n",
    "            <th>mse</th>\n",
    "        </tr>\n",
    "        <tr>\n",
    "            <td>0.1</td>\n",
    "            <td>3336.96</td>\n",
    "        </tr>\n",
    "        <tr>\n",
    "            <td>0.5</td>\n",
    "            <td>4003.19</td>\n",
    "        </tr>\n",
    "        <tr>\n",
    "            <td>1</td>\n",
    "            <td>5799.77</td>\n",
    "        </tr>\n",
    "    </table>\n",
    "</div>\n",
    "\n",
    "<div style=\"width: 45%; padding: 10px; text-align: center;\">\n",
    "    <strong>Średni zbiór danych</strong>\n",
    "    <table>\n",
    "        <tr>\n",
    "            <th>learning_rate</th>\n",
    "            <th>mse</th>\n",
    "        </tr>\n",
    "        <tr>\n",
    "            <td>0.1</td>\n",
    "            <td>0.358663</td>\n",
    "        </tr>\n",
    "        <tr>\n",
    "            <td>0.5</td>\n",
    "            <td>0.280075</td>\n",
    "        </tr>\n",
    "        <tr>\n",
    "            <td>1</td>\n",
    "            <td>0.374576</td>\n",
    "        </tr>\n",
    "    </table>\n",
    "</div>\n",
    "\n",
    "<div style=\"width: 45%; padding: 10px; text-align: center;\">\n",
    "    <strong>Największy zbiór danych</strong>\n",
    "    <table>\n",
    "        <tr>\n",
    "            <th>learning_rate</th>\n",
    "            <th>mse</th>\n",
    "        </tr>\n",
    "        <tr>\n",
    "            <td>0.1</td>\n",
    "            <td>8003.90</td>\n",
    "        </tr>\n",
    "        <tr>\n",
    "            <td>0.5</td>\n",
    "            <td>4742.41</td>\n",
    "        </tr>\n",
    "        <tr>\n",
    "            <td>1</td>\n",
    "            <td>9182.29</td>\n",
    "        </tr>\n",
    "    </table>\n",
    "</div>\n",
    "    \n",
    "</div>\n"
   ]
  },
  {
   "cell_type": "markdown",
   "id": "605e35ff",
   "metadata": {},
   "source": [
    "### Najlepsze modele dla każdego zbioru"
   ]
  },
  {
   "cell_type": "markdown",
   "id": "22b010e8",
   "metadata": {},
   "source": [
    "| Source                   |   B  |   Learning Rate |   Max Depth |\n",
    "|:--------------------------|-----:|----------------:|------------:|\n",
    "| AdaBoost - Zbiór 1        |  50  |             1.0 |           5 |\n",
    "| AdaBoost - Zbiór 2        |  10  |             0.1 |          10 |\n",
    "| AdaBoost - Zbiór 3        | 100  |             0.5 |           5 |\n",
    "| GradientBoost - Zbiór 1   |  50  |             0.1 |           3 |\n",
    "| GradientBoost - Zbiór 2   | 100  |             0.1 |          10 |\n",
    "| GradientBoost - Zbiór 3   | 100  |             0.1 |           5 |\n",
    "\n"
   ]
  },
  {
   "cell_type": "markdown",
   "id": "628d43ef",
   "metadata": {},
   "source": [
    "### Wydajność czasowa modeli, a liczba drzew"
   ]
  },
  {
   "cell_type": "code",
   "execution_count": 201,
   "id": "bd989b49",
   "metadata": {},
   "outputs": [
    {
     "data": {
      "image/png": "[encoded data removed]",
      "text/plain": [
       "<Figure size 720x432 with 1 Axes>"
      ]
     },
     "metadata": {
      "needs_background": "light"
     },
     "output_type": "display_data"
    },
    {
     "data": {
      "image/png": "[encoded data removed]",
      "text/plain": [
       "<Figure size 720x432 with 1 Axes>"
      ]
     },
     "metadata": {
      "needs_background": "light"
     },
     "output_type": "display_data"
    },
    {
     "data": {
      "image/png": "[encoded data removed]",
      "text/plain": [
       "<Figure size 720x432 with 1 Axes>"
      ]
     },
     "metadata": {
      "needs_background": "light"
     },
     "output_type": "display_data"
    }
   ],
   "source": [
    "plt.figure(figsize=(10, 6))\n",
    "plt.plot(average_times_a1.index, average_times_a1.values, marker='o', linestyle='-', color='b', label='AdaBoost ')\n",
    "plt.plot(average_times_g1.index, average_times_g1.values, marker='o', linestyle='-', color='r', label='Gradientboost')\n",
    "plt.title('Najmniejszy zbiór', fontsize=14)\n",
    "plt.xlabel('Liczba drzew (B)', fontsize=12)\n",
    "plt.ylabel('Czas treningu (sekundy)', fontsize=12)\n",
    "plt.legend()\n",
    "plt.grid(True)\n",
    "\n",
    "plt.figure(figsize=(10, 6))\n",
    "plt.plot(average_times_a2.index, average_times_a2.values, marker='o', linestyle='-', color='b', label='AdaBoost ')\n",
    "plt.plot(average_times_g2.index, average_times_g2.values, marker='o', linestyle='-', color='r', label='Gradientboost')\n",
    "plt.title('Średni zbiór', fontsize=14)\n",
    "plt.xlabel('Liczba drzew (B)', fontsize=12)\n",
    "plt.ylabel('Czas treningu (sekundy)', fontsize=12)\n",
    "plt.legend()\n",
    "plt.grid(True)\n",
    "\n",
    "plt.figure(figsize=(10, 6))\n",
    "plt.plot(average_times_a3.index, average_times_a3.values, marker='o', linestyle='-', color='b', label='AdaBoost ')\n",
    "plt.plot(average_times_g3.index, average_times_g3.values, marker='o', linestyle='-', color='r', label='Gradientboost')\n",
    "plt.title('Największy zbiór', fontsize=14)\n",
    "plt.xlabel('Liczba drzew (B)', fontsize=12)\n",
    "plt.ylabel('Czas treningu (sekundy)', fontsize=12)\n",
    "plt.legend()\n",
    "plt.grid(True)"
   ]
  },
  {
   "cell_type": "markdown",
   "id": "fcd043c7",
   "metadata": {},
   "source": [
    "![](a3g3.png)"
   ]
  },
  {
   "cell_type": "markdown",
   "id": "5e28238a",
   "metadata": {},
   "source": [
    "### Wpływ głębokości drzewa na jakość predykcji "
   ]
  },
  {
   "cell_type": "code",
   "execution_count": 202,
   "id": "b632442d",
   "metadata": {},
   "outputs": [
    {
     "data": {
      "image/png": "[encoded data removed]",
      "text/plain": [
       "<Figure size 720x432 with 1 Axes>"
      ]
     },
     "metadata": {
      "needs_background": "light"
     },
     "output_type": "display_data"
    },
    {
     "data": {
      "image/png": "[encoded data removed]",
      "text/plain": [
       "<Figure size 720x432 with 1 Axes>"
      ]
     },
     "metadata": {
      "needs_background": "light"
     },
     "output_type": "display_data"
    },
    {
     "data": {
      "image/png": "[encoded data removed]",
      "text/plain": [
       "<Figure size 720x432 with 1 Axes>"
      ]
     },
     "metadata": {
      "needs_background": "light"
     },
     "output_type": "display_data"
    }
   ],
   "source": [
    "plt.figure(figsize=(10, 6))\n",
    "plt.scatter(results_df_a1['max_depth'], results_df_a1['mse'], color='purple', alpha=1, label='AdaBoost')\n",
    "plt.scatter(results_df_g1['max_depth'], results_df_g1['mse'], color='green', alpha=1, label='GradientBoost')\n",
    "plt.title('Najmniejszy zbiór danych', fontsize=14)\n",
    "plt.xlabel('Głębokość drzewa (max_depth)', fontsize=12)\n",
    "plt.ylabel('MSE', fontsize=12)\n",
    "plt.legend()\n",
    "plt.grid(True)\n",
    "plt.savefig('plota1g1d.png') \n",
    "\n",
    "plt.figure(figsize=(10, 6))\n",
    "plt.scatter(results_df_a2['max_depth'], results_df_a2['mse'], color='purple', alpha=1, label='AdaBoost')\n",
    "plt.scatter(results_df_g2['max_depth'], results_df_g2['mse'], color='green', alpha=1, label='GradientBoost')\n",
    "plt.title('Średni zbiór danych', fontsize=14)\n",
    "plt.xlabel('Głębokość drzewa (max_depth)', fontsize=12)\n",
    "plt.ylabel('MSE', fontsize=12)\n",
    "plt.legend()\n",
    "plt.grid(True)\n",
    "plt.savefig('plota2g2d.png') \n",
    "\n",
    "plt.figure(figsize=(10, 6))\n",
    "plt.scatter(results_df_a3['max_depth'], results_df_a3['mse'], color='purple', alpha=1, label='AdaBoost')\n",
    "plt.scatter(results_df_g3['max_depth'], results_df_g3['mse'], color='green', alpha=1, label='GradientBoost')\n",
    "plt.title('Największy zbiór danych', fontsize=14)\n",
    "plt.xlabel('Głębokość drzewa (max_depth)', fontsize=12)\n",
    "plt.ylabel('MSE', fontsize=12)\n",
    "plt.legend()\n",
    "plt.grid(True)\n",
    "plt.savefig('plota3g3d.png')"
   ]
  },
  {
   "cell_type": "markdown",
   "id": "edf5fe35",
   "metadata": {},
   "source": [
    "## Wnioski "
   ]
  },
  {
   "cell_type": "markdown",
   "id": "7ad80fa8",
   "metadata": {},
   "source": [
    "#### Learning_rate \n",
    "1. W przypadku AdaBoost learning rate nie ma znaczącego wpływu dla mniejszego i średniego zbioru danych. W największym zbiorze danych możemy zaobserwować, że MSE maleje wraz ze zwiększaniem learning rate. Obserwacja, że wyższy learning rate prowadzi do zmniejszenia MSE, sugeruje, że model szybciej koncentruje się na trudniejszych przypadkach i efektywnie poprawia swoje predykcje.\n",
    "2. Dla modelu GradientBoost dla każdych danych w ogólności wzrost learning rate wiąże się ze wzrostem MSE. Wskazuje to na potencjalne przeuczenie modelu. Wyższy learning rate sprawia, że każde kolejne drzewo w modelu wnosi większy wkład w predykcję, przez co model może się przeuczać\n",
    "3. Dla największego zbioru danych i modelu GradientBoost mamy znaczny spadek MSE dla learning rate 0.5, a następnie wzrost dla 1. Sugeruję to istnienie optymalnego poziomu learning rate, w którym nie będziemy przeuczać modelu.\n",
    "4. Gradient boost daje w ogólności niższe średnie wyniki MSE - wyjątkiem jest najmniejszy zbiór, zatem AdaBoost może być bardziej skuteczny w przypadku danych o niewielkim rozmiarze\n",
    "5. W każdym przypadku dla Gradient Boosta najlpeszy model miał learning rate 0.1, ale za to dużą ilość drzew. Możemy próbować wysnuć wnioski, że małe learning rate jest skuteczne, ale wiąże się to ze zwiększaniem liczby drzew w komitecie\n",
    "\n",
    "\n",
    "#### Liczba drzew\n",
    "1. Wraz ze wzrostem liczby drzew rośnie czas trenowania modelu.\n",
    "2. Im mniejszy zbiór danych tym modele szybciej się uczą.\n",
    "3. Dla mniejszego i największego zbioru danych wydajniejszym modelem okazał się Gradient Booster.\n",
    "4. Najlepsze modele (o najniższym MSE) są zazwyczaj dla większej liczby drzew w komitecie. Jest to dość intuicyjne, ponieważ im więcej drzew głosuję, tym mniej powinny się mylić\n",
    "\n",
    "\n",
    "#### Maksymalna głębokość drzewa (max_depth)\n",
    "1. Dla najmniejszego zbioru i AdaBoost MSE znacząco wzrósł, gdy zwiększyliśmy maksymalną głebokość drzewa do 10. Może to sugerować przeuczanie się modelu. GradientBoost charakteryzuję się większym rozrzutem niż AdaBoost. Obserwację bez znaczących outlierów są dla najgłebszych drzew. Obserwujemy wysokie MSE, dla kilku przypadków, gdy głębokość drzewa jest równa 3. AdaBoost dla najmnijeszego zbioru wydaję się wypadać lepiej\n",
    "2. Dla średniego zbioru i AdabBoost widzimy poprawę wraz, ze zwiększaniem głębokości drzewa. Zwiększająca się głębokość drzewa może pozwalać modelowi AdaBoost na lepsze uchwycenie złożoności danych. Dla GradientBoosta i głębokości 10 obserwujemy punkty o większym MSE, co oznacza, że model w niektórych przypadkach może się przeuczać. \n",
    "3. GradientBoost działa lepiej dla mnijeszej głębokości drzewa w przypadku największego zbioru danych. Dla AdaBoost nie zauważalna jest konkretna tendecja, oprócz tego, że dla mało głębokich drzewwk dizała słabiej. Dla najwięszego zbioru danych GradientBoost ma przewagę nad AdaBoost\n",
    "4. Najlepsze modele są dla komitetów o głębokości drzewa 5 lub 10. Mała głębokość drzewa może prowadzić do zbyt prostego modelu, który nie jest w stanie uchwycić złożonych wzorców w danych "
   ]
  }
 ],
 "metadata": {
  "kernelspec": {
   "display_name": "Python 3 (ipykernel)",
   "language": "python",
   "name": "python3"
  },
  "language_info": {
   "codemirror_mode": {
    "name": "ipython",
    "version": 3
   },
   "file_extension": ".py",
   "mimetype": "text/x-python",
   "name": "python",
   "nbconvert_exporter": "python",
   "pygments_lexer": "ipython3",
   "version": "3.9.12"
  }
 },
 "nbformat": 4,
 "nbformat_minor": 5
}
